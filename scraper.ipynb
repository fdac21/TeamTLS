{
 "cells": [
  {
   "cell_type": "code",
   "execution_count": null,
   "metadata": {},
   "outputs": [],
   "source": [
    "import pandas   \n",
    "\n",
    "df = pandas.read_csv('majestic_million.csv')\n",
    "\n",
    "print(df)\n",
    "\n",
    "df_com = df[df['TLD'] == 'com'].head(10000)\n",
    "\n",
    "df_com['Domain'].to_csv('ten_thousand_com.txt', header=None, index=None)"
   ]
  },
  {
   "cell_type": "code",
   "execution_count": 1,
   "metadata": {},
   "outputs": [
    {
     "name": "stdout",
     "output_type": "stream",
     "text": [
      "GlobalRank,TldRank,Domain,TLD,RefSubNets,RefIPs,IDN_Domain,IDN_TLD,PrevGlobalRank,PrevTldRank,PrevRefSubNets,PrevRefIPs\n",
      "\n",
      "1,1,google.com,com,506217,2683159,google.com,com,1,1,505624,2680994\n",
      "\n",
      "['https://userlab.utk.edu/courses/cosc483/', 'https://utk.instructure.com/']\n",
      "Fetching website: https://utk.instructure.com/ at 06:13:54\n",
      "Fetching website: https://userlab.utk.edu/courses/cosc483/ at 06:13:55\n",
      "[]\n"
     ]
    }
   ],
   "source": [
    "import requests\n",
    "import datetime\n",
    "# from pymongo import MongoClient\n",
    "\n",
    "# client = MongoClient('localhost', 27017)\n",
    "# print(client)\n",
    "# tls = client.tls_websites.raw_tls_responses\n",
    "# print(tls)\n",
    "rf = open(\"majestic_million.csv\", \"r\")\n",
    "wf = open(\"website_data.txt\", 'w')\n",
    "\n",
    "\n",
    "website_queue = [\"https://userlab.utk.edu/courses/cosc483/\", \"https://utk.instructure.com/\"]\n",
    "\n",
    "\n",
    "current_connections = 0\n",
    "max_connections = 25\n",
    "\n",
    "def fetchWebsite():\n",
    "    return\n",
    "\n",
    "def storeResults( response ):\n",
    "    wf.write(response.text)\n",
    "    wf.write('\\n')\n",
    "    # tls.insert_one( {'test': \"test1\"} )\n",
    "    return\n",
    "\n",
    "line = rf.readline()\n",
    "print(line)\n",
    "line = rf.readline()\n",
    "print(line)\n",
    "exit()\n",
    "\n",
    "while ( len(website_queue) ):\n",
    "\n",
    "    # while ( current_connections < max_connections ):\n",
    "        \n",
    "    #     website_queue.append( fetchWebsite() )\n",
    "    #     current_connections += 1\n",
    "    print(website_queue)\n",
    "\n",
    "    for website in reversed(website_queue):\n",
    "\n",
    "        print( f\"Fetching website: {website} at {datetime.datetime.now().strftime('%I:%M:%S')}\" )\n",
    "\n",
    "        response = requests.get(f\"https://api.ssllabs.com/api/v3/analyze?host={website}&all=on&fromCache=on\")\n",
    "\n",
    "        if (response.json()[\"status\"] == \"READY\"):\n",
    "            # store in database\n",
    "            storeResults( response )\n",
    "            website_queue.remove(website)\n",
    "\n",
    "        if (response.json()[\"status\"] == \"ERROR\"):\n",
    "            website_queue.remove(website)\n",
    "\n",
    "        # update \n",
    "        # print(response.headers)\n",
    "        # print(response.json())\n",
    "        # break\n",
    "    \n",
    "    # sleep(10)\n",
    "    # break\n",
    "\n",
    "print(website_queue)\n",
    "\n"
   ]
  }
 ],
 "metadata": {
  "interpreter": {
   "hash": "f6f412baa6abb529d34cb2c43f7b53b0a851245876b8893565ed13cfc29a554b"
  },
  "kernelspec": {
   "display_name": "Python 3.9.2 64-bit ('Medals-WwWeGMyM': pipenv)",
   "name": "python3"
  },
  "language_info": {
   "codemirror_mode": {
    "name": "ipython",
    "version": 3
   },
   "file_extension": ".py",
   "mimetype": "text/x-python",
   "name": "python",
   "nbconvert_exporter": "python",
   "pygments_lexer": "ipython3",
   "version": "3.9.2"
  },
  "orig_nbformat": 4
 },
 "nbformat": 4,
 "nbformat_minor": 2
}
